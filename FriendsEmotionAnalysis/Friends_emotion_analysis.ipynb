{
  "nbformat": 4,
  "nbformat_minor": 0,
  "metadata": {
    "colab": {
      "name": "Friends_emotion_analysis.ipynb",
      "provenance": [],
      "collapsed_sections": [],
      "toc_visible": true,
      "include_colab_link": true
    },
    "kernelspec": {
      "name": "python3",
      "display_name": "Python 3"
    },
    "accelerator": "GPU",
    "widgets": {
      "application/vnd.jupyter.widget-state+json": {
        "737820a9e7f74eab9b0bf4d38c3d96e3": {
          "model_module": "@jupyter-widgets/controls",
          "model_name": "HBoxModel",
          "state": {
            "_view_name": "HBoxView",
            "_dom_classes": [],
            "_model_name": "HBoxModel",
            "_view_module": "@jupyter-widgets/controls",
            "_model_module_version": "1.5.0",
            "_view_count": null,
            "_view_module_version": "1.5.0",
            "box_style": "",
            "layout": "IPY_MODEL_436ee73bee564c89938923634325910c",
            "_model_module": "@jupyter-widgets/controls",
            "children": [
              "IPY_MODEL_abda5eb9680f486aa36fa8b16e378551",
              "IPY_MODEL_e14ec991d4ad459fafba1ec6500de1ad"
            ]
          }
        },
        "436ee73bee564c89938923634325910c": {
          "model_module": "@jupyter-widgets/base",
          "model_name": "LayoutModel",
          "state": {
            "_view_name": "LayoutView",
            "grid_template_rows": null,
            "right": null,
            "justify_content": null,
            "_view_module": "@jupyter-widgets/base",
            "overflow": null,
            "_model_module_version": "1.2.0",
            "_view_count": null,
            "flex_flow": null,
            "width": null,
            "min_width": null,
            "border": null,
            "align_items": null,
            "bottom": null,
            "_model_module": "@jupyter-widgets/base",
            "top": null,
            "grid_column": null,
            "overflow_y": null,
            "overflow_x": null,
            "grid_auto_flow": null,
            "grid_area": null,
            "grid_template_columns": null,
            "flex": null,
            "_model_name": "LayoutModel",
            "justify_items": null,
            "grid_row": null,
            "max_height": null,
            "align_content": null,
            "visibility": null,
            "align_self": null,
            "height": null,
            "min_height": null,
            "padding": null,
            "grid_auto_rows": null,
            "grid_gap": null,
            "max_width": null,
            "order": null,
            "_view_module_version": "1.2.0",
            "grid_template_areas": null,
            "object_position": null,
            "object_fit": null,
            "grid_auto_columns": null,
            "margin": null,
            "display": null,
            "left": null
          }
        },
        "abda5eb9680f486aa36fa8b16e378551": {
          "model_module": "@jupyter-widgets/controls",
          "model_name": "FloatProgressModel",
          "state": {
            "_view_name": "ProgressView",
            "style": "IPY_MODEL_4ed1aa80f1804d5ba3e37daa65a3ffe0",
            "_dom_classes": [],
            "description": "100%",
            "_model_name": "FloatProgressModel",
            "bar_style": "success",
            "max": 10561,
            "_view_module": "@jupyter-widgets/controls",
            "_model_module_version": "1.5.0",
            "value": 10561,
            "_view_count": null,
            "_view_module_version": "1.5.0",
            "orientation": "horizontal",
            "min": 0,
            "description_tooltip": null,
            "_model_module": "@jupyter-widgets/controls",
            "layout": "IPY_MODEL_72f05be8ba1a43eaa5e035921c3e506e"
          }
        },
        "e14ec991d4ad459fafba1ec6500de1ad": {
          "model_module": "@jupyter-widgets/controls",
          "model_name": "HTMLModel",
          "state": {
            "_view_name": "HTMLView",
            "style": "IPY_MODEL_489b0ffe3c6a4caaa00dfc723dff76ac",
            "_dom_classes": [],
            "description": "",
            "_model_name": "HTMLModel",
            "placeholder": "​",
            "_view_module": "@jupyter-widgets/controls",
            "_model_module_version": "1.5.0",
            "value": " 10561/10561 [34:15&lt;00:00,  5.14it/s]",
            "_view_count": null,
            "_view_module_version": "1.5.0",
            "description_tooltip": null,
            "_model_module": "@jupyter-widgets/controls",
            "layout": "IPY_MODEL_9e63d571f01e4f44a676c8223b40a235"
          }
        },
        "4ed1aa80f1804d5ba3e37daa65a3ffe0": {
          "model_module": "@jupyter-widgets/controls",
          "model_name": "ProgressStyleModel",
          "state": {
            "_view_name": "StyleView",
            "_model_name": "ProgressStyleModel",
            "description_width": "initial",
            "_view_module": "@jupyter-widgets/base",
            "_model_module_version": "1.5.0",
            "_view_count": null,
            "_view_module_version": "1.2.0",
            "bar_color": null,
            "_model_module": "@jupyter-widgets/controls"
          }
        },
        "72f05be8ba1a43eaa5e035921c3e506e": {
          "model_module": "@jupyter-widgets/base",
          "model_name": "LayoutModel",
          "state": {
            "_view_name": "LayoutView",
            "grid_template_rows": null,
            "right": null,
            "justify_content": null,
            "_view_module": "@jupyter-widgets/base",
            "overflow": null,
            "_model_module_version": "1.2.0",
            "_view_count": null,
            "flex_flow": null,
            "width": null,
            "min_width": null,
            "border": null,
            "align_items": null,
            "bottom": null,
            "_model_module": "@jupyter-widgets/base",
            "top": null,
            "grid_column": null,
            "overflow_y": null,
            "overflow_x": null,
            "grid_auto_flow": null,
            "grid_area": null,
            "grid_template_columns": null,
            "flex": null,
            "_model_name": "LayoutModel",
            "justify_items": null,
            "grid_row": null,
            "max_height": null,
            "align_content": null,
            "visibility": null,
            "align_self": null,
            "height": null,
            "min_height": null,
            "padding": null,
            "grid_auto_rows": null,
            "grid_gap": null,
            "max_width": null,
            "order": null,
            "_view_module_version": "1.2.0",
            "grid_template_areas": null,
            "object_position": null,
            "object_fit": null,
            "grid_auto_columns": null,
            "margin": null,
            "display": null,
            "left": null
          }
        },
        "489b0ffe3c6a4caaa00dfc723dff76ac": {
          "model_module": "@jupyter-widgets/controls",
          "model_name": "DescriptionStyleModel",
          "state": {
            "_view_name": "StyleView",
            "_model_name": "DescriptionStyleModel",
            "description_width": "",
            "_view_module": "@jupyter-widgets/base",
            "_model_module_version": "1.5.0",
            "_view_count": null,
            "_view_module_version": "1.2.0",
            "_model_module": "@jupyter-widgets/controls"
          }
        },
        "9e63d571f01e4f44a676c8223b40a235": {
          "model_module": "@jupyter-widgets/base",
          "model_name": "LayoutModel",
          "state": {
            "_view_name": "LayoutView",
            "grid_template_rows": null,
            "right": null,
            "justify_content": null,
            "_view_module": "@jupyter-widgets/base",
            "overflow": null,
            "_model_module_version": "1.2.0",
            "_view_count": null,
            "flex_flow": null,
            "width": null,
            "min_width": null,
            "border": null,
            "align_items": null,
            "bottom": null,
            "_model_module": "@jupyter-widgets/base",
            "top": null,
            "grid_column": null,
            "overflow_y": null,
            "overflow_x": null,
            "grid_auto_flow": null,
            "grid_area": null,
            "grid_template_columns": null,
            "flex": null,
            "_model_name": "LayoutModel",
            "justify_items": null,
            "grid_row": null,
            "max_height": null,
            "align_content": null,
            "visibility": null,
            "align_self": null,
            "height": null,
            "min_height": null,
            "padding": null,
            "grid_auto_rows": null,
            "grid_gap": null,
            "max_width": null,
            "order": null,
            "_view_module_version": "1.2.0",
            "grid_template_areas": null,
            "object_position": null,
            "object_fit": null,
            "grid_auto_columns": null,
            "margin": null,
            "display": null,
            "left": null
          }
        },
        "86e9edb0afc3478488ca40dbe90d63db": {
          "model_module": "@jupyter-widgets/controls",
          "model_name": "HBoxModel",
          "state": {
            "_view_name": "HBoxView",
            "_dom_classes": [],
            "_model_name": "HBoxModel",
            "_view_module": "@jupyter-widgets/controls",
            "_model_module_version": "1.5.0",
            "_view_count": null,
            "_view_module_version": "1.5.0",
            "box_style": "",
            "layout": "IPY_MODEL_c385b9986bd64140a4d7c1bad07c227e",
            "_model_module": "@jupyter-widgets/controls",
            "children": [
              "IPY_MODEL_f1f53ab9313749168890d63bcbabe092",
              "IPY_MODEL_5251144f96a84889b12e145bc1ac0ed6"
            ]
          }
        },
        "c385b9986bd64140a4d7c1bad07c227e": {
          "model_module": "@jupyter-widgets/base",
          "model_name": "LayoutModel",
          "state": {
            "_view_name": "LayoutView",
            "grid_template_rows": null,
            "right": null,
            "justify_content": null,
            "_view_module": "@jupyter-widgets/base",
            "overflow": null,
            "_model_module_version": "1.2.0",
            "_view_count": null,
            "flex_flow": null,
            "width": null,
            "min_width": null,
            "border": null,
            "align_items": null,
            "bottom": null,
            "_model_module": "@jupyter-widgets/base",
            "top": null,
            "grid_column": null,
            "overflow_y": null,
            "overflow_x": null,
            "grid_auto_flow": null,
            "grid_area": null,
            "grid_template_columns": null,
            "flex": null,
            "_model_name": "LayoutModel",
            "justify_items": null,
            "grid_row": null,
            "max_height": null,
            "align_content": null,
            "visibility": null,
            "align_self": null,
            "height": null,
            "min_height": null,
            "padding": null,
            "grid_auto_rows": null,
            "grid_gap": null,
            "max_width": null,
            "order": null,
            "_view_module_version": "1.2.0",
            "grid_template_areas": null,
            "object_position": null,
            "object_fit": null,
            "grid_auto_columns": null,
            "margin": null,
            "display": null,
            "left": null
          }
        },
        "f1f53ab9313749168890d63bcbabe092": {
          "model_module": "@jupyter-widgets/controls",
          "model_name": "FloatProgressModel",
          "state": {
            "_view_name": "ProgressView",
            "style": "IPY_MODEL_c3e370275f2c4980a7e336e6e7e7974d",
            "_dom_classes": [],
            "description": "100%",
            "_model_name": "FloatProgressModel",
            "bar_style": "success",
            "max": 10561,
            "_view_module": "@jupyter-widgets/controls",
            "_model_module_version": "1.5.0",
            "value": 10561,
            "_view_count": null,
            "_view_module_version": "1.5.0",
            "orientation": "horizontal",
            "min": 0,
            "description_tooltip": null,
            "_model_module": "@jupyter-widgets/controls",
            "layout": "IPY_MODEL_f3cb16e147a44b75bcf2d4ac57a104e7"
          }
        },
        "5251144f96a84889b12e145bc1ac0ed6": {
          "model_module": "@jupyter-widgets/controls",
          "model_name": "HTMLModel",
          "state": {
            "_view_name": "HTMLView",
            "style": "IPY_MODEL_6319b31b2c484f7ea7ef047870da78bd",
            "_dom_classes": [],
            "description": "",
            "_model_name": "HTMLModel",
            "placeholder": "​",
            "_view_module": "@jupyter-widgets/controls",
            "_model_module_version": "1.5.0",
            "value": " 10561/10561 [1:11:37&lt;00:00,  2.46it/s]",
            "_view_count": null,
            "_view_module_version": "1.5.0",
            "description_tooltip": null,
            "_model_module": "@jupyter-widgets/controls",
            "layout": "IPY_MODEL_ac732999f7a5446694c8bd10461e35ed"
          }
        },
        "c3e370275f2c4980a7e336e6e7e7974d": {
          "model_module": "@jupyter-widgets/controls",
          "model_name": "ProgressStyleModel",
          "state": {
            "_view_name": "StyleView",
            "_model_name": "ProgressStyleModel",
            "description_width": "initial",
            "_view_module": "@jupyter-widgets/base",
            "_model_module_version": "1.5.0",
            "_view_count": null,
            "_view_module_version": "1.2.0",
            "bar_color": null,
            "_model_module": "@jupyter-widgets/controls"
          }
        },
        "f3cb16e147a44b75bcf2d4ac57a104e7": {
          "model_module": "@jupyter-widgets/base",
          "model_name": "LayoutModel",
          "state": {
            "_view_name": "LayoutView",
            "grid_template_rows": null,
            "right": null,
            "justify_content": null,
            "_view_module": "@jupyter-widgets/base",
            "overflow": null,
            "_model_module_version": "1.2.0",
            "_view_count": null,
            "flex_flow": null,
            "width": null,
            "min_width": null,
            "border": null,
            "align_items": null,
            "bottom": null,
            "_model_module": "@jupyter-widgets/base",
            "top": null,
            "grid_column": null,
            "overflow_y": null,
            "overflow_x": null,
            "grid_auto_flow": null,
            "grid_area": null,
            "grid_template_columns": null,
            "flex": null,
            "_model_name": "LayoutModel",
            "justify_items": null,
            "grid_row": null,
            "max_height": null,
            "align_content": null,
            "visibility": null,
            "align_self": null,
            "height": null,
            "min_height": null,
            "padding": null,
            "grid_auto_rows": null,
            "grid_gap": null,
            "max_width": null,
            "order": null,
            "_view_module_version": "1.2.0",
            "grid_template_areas": null,
            "object_position": null,
            "object_fit": null,
            "grid_auto_columns": null,
            "margin": null,
            "display": null,
            "left": null
          }
        },
        "6319b31b2c484f7ea7ef047870da78bd": {
          "model_module": "@jupyter-widgets/controls",
          "model_name": "DescriptionStyleModel",
          "state": {
            "_view_name": "StyleView",
            "_model_name": "DescriptionStyleModel",
            "description_width": "",
            "_view_module": "@jupyter-widgets/base",
            "_model_module_version": "1.5.0",
            "_view_count": null,
            "_view_module_version": "1.2.0",
            "_model_module": "@jupyter-widgets/controls"
          }
        },
        "ac732999f7a5446694c8bd10461e35ed": {
          "model_module": "@jupyter-widgets/base",
          "model_name": "LayoutModel",
          "state": {
            "_view_name": "LayoutView",
            "grid_template_rows": null,
            "right": null,
            "justify_content": null,
            "_view_module": "@jupyter-widgets/base",
            "overflow": null,
            "_model_module_version": "1.2.0",
            "_view_count": null,
            "flex_flow": null,
            "width": null,
            "min_width": null,
            "border": null,
            "align_items": null,
            "bottom": null,
            "_model_module": "@jupyter-widgets/base",
            "top": null,
            "grid_column": null,
            "overflow_y": null,
            "overflow_x": null,
            "grid_auto_flow": null,
            "grid_area": null,
            "grid_template_columns": null,
            "flex": null,
            "_model_name": "LayoutModel",
            "justify_items": null,
            "grid_row": null,
            "max_height": null,
            "align_content": null,
            "visibility": null,
            "align_self": null,
            "height": null,
            "min_height": null,
            "padding": null,
            "grid_auto_rows": null,
            "grid_gap": null,
            "max_width": null,
            "order": null,
            "_view_module_version": "1.2.0",
            "grid_template_areas": null,
            "object_position": null,
            "object_fit": null,
            "grid_auto_columns": null,
            "margin": null,
            "display": null,
            "left": null
          }
        },
        "7a5de44330de4e8dbc1c9a850197e43f": {
          "model_module": "@jupyter-widgets/controls",
          "model_name": "HBoxModel",
          "state": {
            "_view_name": "HBoxView",
            "_dom_classes": [],
            "_model_name": "HBoxModel",
            "_view_module": "@jupyter-widgets/controls",
            "_model_module_version": "1.5.0",
            "_view_count": null,
            "_view_module_version": "1.5.0",
            "box_style": "",
            "layout": "IPY_MODEL_7d1941fb419f4f41977ea6ca28c912f0",
            "_model_module": "@jupyter-widgets/controls",
            "children": [
              "IPY_MODEL_c1292436992243d2b1a8ac9119b4c007",
              "IPY_MODEL_4232c20acc244f4f972f72af385c2efd"
            ]
          }
        },
        "7d1941fb419f4f41977ea6ca28c912f0": {
          "model_module": "@jupyter-widgets/base",
          "model_name": "LayoutModel",
          "state": {
            "_view_name": "LayoutView",
            "grid_template_rows": null,
            "right": null,
            "justify_content": null,
            "_view_module": "@jupyter-widgets/base",
            "overflow": null,
            "_model_module_version": "1.2.0",
            "_view_count": null,
            "flex_flow": null,
            "width": null,
            "min_width": null,
            "border": null,
            "align_items": null,
            "bottom": null,
            "_model_module": "@jupyter-widgets/base",
            "top": null,
            "grid_column": null,
            "overflow_y": null,
            "overflow_x": null,
            "grid_auto_flow": null,
            "grid_area": null,
            "grid_template_columns": null,
            "flex": null,
            "_model_name": "LayoutModel",
            "justify_items": null,
            "grid_row": null,
            "max_height": null,
            "align_content": null,
            "visibility": null,
            "align_self": null,
            "height": null,
            "min_height": null,
            "padding": null,
            "grid_auto_rows": null,
            "grid_gap": null,
            "max_width": null,
            "order": null,
            "_view_module_version": "1.2.0",
            "grid_template_areas": null,
            "object_position": null,
            "object_fit": null,
            "grid_auto_columns": null,
            "margin": null,
            "display": null,
            "left": null
          }
        },
        "c1292436992243d2b1a8ac9119b4c007": {
          "model_module": "@jupyter-widgets/controls",
          "model_name": "FloatProgressModel",
          "state": {
            "_view_name": "ProgressView",
            "style": "IPY_MODEL_400c40fbcee34556b16842e4dadcfd8e",
            "_dom_classes": [],
            "description": "100%",
            "_model_name": "FloatProgressModel",
            "bar_style": "success",
            "max": 10561,
            "_view_module": "@jupyter-widgets/controls",
            "_model_module_version": "1.5.0",
            "value": 10561,
            "_view_count": null,
            "_view_module_version": "1.5.0",
            "orientation": "horizontal",
            "min": 0,
            "description_tooltip": null,
            "_model_module": "@jupyter-widgets/controls",
            "layout": "IPY_MODEL_16e15bd24fcd4bcb8b2f7a0ddd119985"
          }
        },
        "4232c20acc244f4f972f72af385c2efd": {
          "model_module": "@jupyter-widgets/controls",
          "model_name": "HTMLModel",
          "state": {
            "_view_name": "HTMLView",
            "style": "IPY_MODEL_40860880b6e04bfd960e465318fa795b",
            "_dom_classes": [],
            "description": "",
            "_model_name": "HTMLModel",
            "placeholder": "​",
            "_view_module": "@jupyter-widgets/controls",
            "_model_module_version": "1.5.0",
            "value": " 10561/10561 [35:07&lt;00:00,  5.01it/s]",
            "_view_count": null,
            "_view_module_version": "1.5.0",
            "description_tooltip": null,
            "_model_module": "@jupyter-widgets/controls",
            "layout": "IPY_MODEL_332200ff6eb54d5380d657b27f6ac7c4"
          }
        },
        "400c40fbcee34556b16842e4dadcfd8e": {
          "model_module": "@jupyter-widgets/controls",
          "model_name": "ProgressStyleModel",
          "state": {
            "_view_name": "StyleView",
            "_model_name": "ProgressStyleModel",
            "description_width": "initial",
            "_view_module": "@jupyter-widgets/base",
            "_model_module_version": "1.5.0",
            "_view_count": null,
            "_view_module_version": "1.2.0",
            "bar_color": null,
            "_model_module": "@jupyter-widgets/controls"
          }
        },
        "16e15bd24fcd4bcb8b2f7a0ddd119985": {
          "model_module": "@jupyter-widgets/base",
          "model_name": "LayoutModel",
          "state": {
            "_view_name": "LayoutView",
            "grid_template_rows": null,
            "right": null,
            "justify_content": null,
            "_view_module": "@jupyter-widgets/base",
            "overflow": null,
            "_model_module_version": "1.2.0",
            "_view_count": null,
            "flex_flow": null,
            "width": null,
            "min_width": null,
            "border": null,
            "align_items": null,
            "bottom": null,
            "_model_module": "@jupyter-widgets/base",
            "top": null,
            "grid_column": null,
            "overflow_y": null,
            "overflow_x": null,
            "grid_auto_flow": null,
            "grid_area": null,
            "grid_template_columns": null,
            "flex": null,
            "_model_name": "LayoutModel",
            "justify_items": null,
            "grid_row": null,
            "max_height": null,
            "align_content": null,
            "visibility": null,
            "align_self": null,
            "height": null,
            "min_height": null,
            "padding": null,
            "grid_auto_rows": null,
            "grid_gap": null,
            "max_width": null,
            "order": null,
            "_view_module_version": "1.2.0",
            "grid_template_areas": null,
            "object_position": null,
            "object_fit": null,
            "grid_auto_columns": null,
            "margin": null,
            "display": null,
            "left": null
          }
        },
        "40860880b6e04bfd960e465318fa795b": {
          "model_module": "@jupyter-widgets/controls",
          "model_name": "DescriptionStyleModel",
          "state": {
            "_view_name": "StyleView",
            "_model_name": "DescriptionStyleModel",
            "description_width": "",
            "_view_module": "@jupyter-widgets/base",
            "_model_module_version": "1.5.0",
            "_view_count": null,
            "_view_module_version": "1.2.0",
            "_model_module": "@jupyter-widgets/controls"
          }
        },
        "332200ff6eb54d5380d657b27f6ac7c4": {
          "model_module": "@jupyter-widgets/base",
          "model_name": "LayoutModel",
          "state": {
            "_view_name": "LayoutView",
            "grid_template_rows": null,
            "right": null,
            "justify_content": null,
            "_view_module": "@jupyter-widgets/base",
            "overflow": null,
            "_model_module_version": "1.2.0",
            "_view_count": null,
            "flex_flow": null,
            "width": null,
            "min_width": null,
            "border": null,
            "align_items": null,
            "bottom": null,
            "_model_module": "@jupyter-widgets/base",
            "top": null,
            "grid_column": null,
            "overflow_y": null,
            "overflow_x": null,
            "grid_auto_flow": null,
            "grid_area": null,
            "grid_template_columns": null,
            "flex": null,
            "_model_name": "LayoutModel",
            "justify_items": null,
            "grid_row": null,
            "max_height": null,
            "align_content": null,
            "visibility": null,
            "align_self": null,
            "height": null,
            "min_height": null,
            "padding": null,
            "grid_auto_rows": null,
            "grid_gap": null,
            "max_width": null,
            "order": null,
            "_view_module_version": "1.2.0",
            "grid_template_areas": null,
            "object_position": null,
            "object_fit": null,
            "grid_auto_columns": null,
            "margin": null,
            "display": null,
            "left": null
          }
        },
        "5dfdcd7e8a6e481d85466f0efbc27f64": {
          "model_module": "@jupyter-widgets/controls",
          "model_name": "HBoxModel",
          "state": {
            "_view_name": "HBoxView",
            "_dom_classes": [],
            "_model_name": "HBoxModel",
            "_view_module": "@jupyter-widgets/controls",
            "_model_module_version": "1.5.0",
            "_view_count": null,
            "_view_module_version": "1.5.0",
            "box_style": "",
            "layout": "IPY_MODEL_3bfd34b0354c4fa1918f5f944bdf143e",
            "_model_module": "@jupyter-widgets/controls",
            "children": [
              "IPY_MODEL_b1d50359fa3842aba39dac07a4dd6683",
              "IPY_MODEL_999e613f54e44e57b1fd4b287eaaa941"
            ]
          }
        },
        "3bfd34b0354c4fa1918f5f944bdf143e": {
          "model_module": "@jupyter-widgets/base",
          "model_name": "LayoutModel",
          "state": {
            "_view_name": "LayoutView",
            "grid_template_rows": null,
            "right": null,
            "justify_content": null,
            "_view_module": "@jupyter-widgets/base",
            "overflow": null,
            "_model_module_version": "1.2.0",
            "_view_count": null,
            "flex_flow": null,
            "width": null,
            "min_width": null,
            "border": null,
            "align_items": null,
            "bottom": null,
            "_model_module": "@jupyter-widgets/base",
            "top": null,
            "grid_column": null,
            "overflow_y": null,
            "overflow_x": null,
            "grid_auto_flow": null,
            "grid_area": null,
            "grid_template_columns": null,
            "flex": null,
            "_model_name": "LayoutModel",
            "justify_items": null,
            "grid_row": null,
            "max_height": null,
            "align_content": null,
            "visibility": null,
            "align_self": null,
            "height": null,
            "min_height": null,
            "padding": null,
            "grid_auto_rows": null,
            "grid_gap": null,
            "max_width": null,
            "order": null,
            "_view_module_version": "1.2.0",
            "grid_template_areas": null,
            "object_position": null,
            "object_fit": null,
            "grid_auto_columns": null,
            "margin": null,
            "display": null,
            "left": null
          }
        },
        "b1d50359fa3842aba39dac07a4dd6683": {
          "model_module": "@jupyter-widgets/controls",
          "model_name": "FloatProgressModel",
          "state": {
            "_view_name": "ProgressView",
            "style": "IPY_MODEL_4c3ca878bc8b4a70bc34370b467bf160",
            "_dom_classes": [],
            "description": "100%",
            "_model_name": "FloatProgressModel",
            "bar_style": "success",
            "max": 2764,
            "_view_module": "@jupyter-widgets/controls",
            "_model_module_version": "1.5.0",
            "value": 2764,
            "_view_count": null,
            "_view_module_version": "1.5.0",
            "orientation": "horizontal",
            "min": 0,
            "description_tooltip": null,
            "_model_module": "@jupyter-widgets/controls",
            "layout": "IPY_MODEL_a2d27621a48b447f9bbd33dbd8f02a39"
          }
        },
        "999e613f54e44e57b1fd4b287eaaa941": {
          "model_module": "@jupyter-widgets/controls",
          "model_name": "HTMLModel",
          "state": {
            "_view_name": "HTMLView",
            "style": "IPY_MODEL_c11431c78d5e46739ae8f15a10e73b03",
            "_dom_classes": [],
            "description": "",
            "_model_name": "HTMLModel",
            "placeholder": "​",
            "_view_module": "@jupyter-widgets/controls",
            "_model_module_version": "1.5.0",
            "value": " 2764/2764 [06:10&lt;00:00,  7.47it/s]",
            "_view_count": null,
            "_view_module_version": "1.5.0",
            "description_tooltip": null,
            "_model_module": "@jupyter-widgets/controls",
            "layout": "IPY_MODEL_8189572a21184b21879f0fcad3a113d6"
          }
        },
        "4c3ca878bc8b4a70bc34370b467bf160": {
          "model_module": "@jupyter-widgets/controls",
          "model_name": "ProgressStyleModel",
          "state": {
            "_view_name": "StyleView",
            "_model_name": "ProgressStyleModel",
            "description_width": "initial",
            "_view_module": "@jupyter-widgets/base",
            "_model_module_version": "1.5.0",
            "_view_count": null,
            "_view_module_version": "1.2.0",
            "bar_color": null,
            "_model_module": "@jupyter-widgets/controls"
          }
        },
        "a2d27621a48b447f9bbd33dbd8f02a39": {
          "model_module": "@jupyter-widgets/base",
          "model_name": "LayoutModel",
          "state": {
            "_view_name": "LayoutView",
            "grid_template_rows": null,
            "right": null,
            "justify_content": null,
            "_view_module": "@jupyter-widgets/base",
            "overflow": null,
            "_model_module_version": "1.2.0",
            "_view_count": null,
            "flex_flow": null,
            "width": null,
            "min_width": null,
            "border": null,
            "align_items": null,
            "bottom": null,
            "_model_module": "@jupyter-widgets/base",
            "top": null,
            "grid_column": null,
            "overflow_y": null,
            "overflow_x": null,
            "grid_auto_flow": null,
            "grid_area": null,
            "grid_template_columns": null,
            "flex": null,
            "_model_name": "LayoutModel",
            "justify_items": null,
            "grid_row": null,
            "max_height": null,
            "align_content": null,
            "visibility": null,
            "align_self": null,
            "height": null,
            "min_height": null,
            "padding": null,
            "grid_auto_rows": null,
            "grid_gap": null,
            "max_width": null,
            "order": null,
            "_view_module_version": "1.2.0",
            "grid_template_areas": null,
            "object_position": null,
            "object_fit": null,
            "grid_auto_columns": null,
            "margin": null,
            "display": null,
            "left": null
          }
        },
        "c11431c78d5e46739ae8f15a10e73b03": {
          "model_module": "@jupyter-widgets/controls",
          "model_name": "DescriptionStyleModel",
          "state": {
            "_view_name": "StyleView",
            "_model_name": "DescriptionStyleModel",
            "description_width": "",
            "_view_module": "@jupyter-widgets/base",
            "_model_module_version": "1.5.0",
            "_view_count": null,
            "_view_module_version": "1.2.0",
            "_model_module": "@jupyter-widgets/controls"
          }
        },
        "8189572a21184b21879f0fcad3a113d6": {
          "model_module": "@jupyter-widgets/base",
          "model_name": "LayoutModel",
          "state": {
            "_view_name": "LayoutView",
            "grid_template_rows": null,
            "right": null,
            "justify_content": null,
            "_view_module": "@jupyter-widgets/base",
            "overflow": null,
            "_model_module_version": "1.2.0",
            "_view_count": null,
            "flex_flow": null,
            "width": null,
            "min_width": null,
            "border": null,
            "align_items": null,
            "bottom": null,
            "_model_module": "@jupyter-widgets/base",
            "top": null,
            "grid_column": null,
            "overflow_y": null,
            "overflow_x": null,
            "grid_auto_flow": null,
            "grid_area": null,
            "grid_template_columns": null,
            "flex": null,
            "_model_name": "LayoutModel",
            "justify_items": null,
            "grid_row": null,
            "max_height": null,
            "align_content": null,
            "visibility": null,
            "align_self": null,
            "height": null,
            "min_height": null,
            "padding": null,
            "grid_auto_rows": null,
            "grid_gap": null,
            "max_width": null,
            "order": null,
            "_view_module_version": "1.2.0",
            "grid_template_areas": null,
            "object_position": null,
            "object_fit": null,
            "grid_auto_columns": null,
            "margin": null,
            "display": null,
            "left": null
          }
        },
        "4f7f891216074189b13a100fe8b055dc": {
          "model_module": "@jupyter-widgets/controls",
          "model_name": "HBoxModel",
          "state": {
            "_view_name": "HBoxView",
            "_dom_classes": [],
            "_model_name": "HBoxModel",
            "_view_module": "@jupyter-widgets/controls",
            "_model_module_version": "1.5.0",
            "_view_count": null,
            "_view_module_version": "1.5.0",
            "box_style": "",
            "layout": "IPY_MODEL_2c14c00ecbed4fe88b876dfd12109dfc",
            "_model_module": "@jupyter-widgets/controls",
            "children": [
              "IPY_MODEL_03b85fc7f8ca4a23a2de73084fbf3987",
              "IPY_MODEL_fac278b5f6dc4f3eba6b418f454b55db"
            ]
          }
        },
        "2c14c00ecbed4fe88b876dfd12109dfc": {
          "model_module": "@jupyter-widgets/base",
          "model_name": "LayoutModel",
          "state": {
            "_view_name": "LayoutView",
            "grid_template_rows": null,
            "right": null,
            "justify_content": null,
            "_view_module": "@jupyter-widgets/base",
            "overflow": null,
            "_model_module_version": "1.2.0",
            "_view_count": null,
            "flex_flow": null,
            "width": null,
            "min_width": null,
            "border": null,
            "align_items": null,
            "bottom": null,
            "_model_module": "@jupyter-widgets/base",
            "top": null,
            "grid_column": null,
            "overflow_y": null,
            "overflow_x": null,
            "grid_auto_flow": null,
            "grid_area": null,
            "grid_template_columns": null,
            "flex": null,
            "_model_name": "LayoutModel",
            "justify_items": null,
            "grid_row": null,
            "max_height": null,
            "align_content": null,
            "visibility": null,
            "align_self": null,
            "height": null,
            "min_height": null,
            "padding": null,
            "grid_auto_rows": null,
            "grid_gap": null,
            "max_width": null,
            "order": null,
            "_view_module_version": "1.2.0",
            "grid_template_areas": null,
            "object_position": null,
            "object_fit": null,
            "grid_auto_columns": null,
            "margin": null,
            "display": null,
            "left": null
          }
        },
        "03b85fc7f8ca4a23a2de73084fbf3987": {
          "model_module": "@jupyter-widgets/controls",
          "model_name": "FloatProgressModel",
          "state": {
            "_view_name": "ProgressView",
            "style": "IPY_MODEL_5f38de4937c440ae8f428fdeb3082342",
            "_dom_classes": [],
            "description": "100%",
            "_model_name": "FloatProgressModel",
            "bar_style": "success",
            "max": 1623,
            "_view_module": "@jupyter-widgets/controls",
            "_model_module_version": "1.5.0",
            "value": 1623,
            "_view_count": null,
            "_view_module_version": "1.5.0",
            "orientation": "horizontal",
            "min": 0,
            "description_tooltip": null,
            "_model_module": "@jupyter-widgets/controls",
            "layout": "IPY_MODEL_c6059eb8caf94f019ee97ba9cf75a052"
          }
        },
        "fac278b5f6dc4f3eba6b418f454b55db": {
          "model_module": "@jupyter-widgets/controls",
          "model_name": "HTMLModel",
          "state": {
            "_view_name": "HTMLView",
            "style": "IPY_MODEL_5322be753f1f49d691c3f4cb4ebd01ac",
            "_dom_classes": [],
            "description": "",
            "_model_name": "HTMLModel",
            "placeholder": "​",
            "_view_module": "@jupyter-widgets/controls",
            "_model_module_version": "1.5.0",
            "value": " 1623/1623 [01:34&lt;00:00, 17.10it/s]",
            "_view_count": null,
            "_view_module_version": "1.5.0",
            "description_tooltip": null,
            "_model_module": "@jupyter-widgets/controls",
            "layout": "IPY_MODEL_074cdc7773214d27be1ccf4368e855ec"
          }
        },
        "5f38de4937c440ae8f428fdeb3082342": {
          "model_module": "@jupyter-widgets/controls",
          "model_name": "ProgressStyleModel",
          "state": {
            "_view_name": "StyleView",
            "_model_name": "ProgressStyleModel",
            "description_width": "initial",
            "_view_module": "@jupyter-widgets/base",
            "_model_module_version": "1.5.0",
            "_view_count": null,
            "_view_module_version": "1.2.0",
            "bar_color": null,
            "_model_module": "@jupyter-widgets/controls"
          }
        },
        "c6059eb8caf94f019ee97ba9cf75a052": {
          "model_module": "@jupyter-widgets/base",
          "model_name": "LayoutModel",
          "state": {
            "_view_name": "LayoutView",
            "grid_template_rows": null,
            "right": null,
            "justify_content": null,
            "_view_module": "@jupyter-widgets/base",
            "overflow": null,
            "_model_module_version": "1.2.0",
            "_view_count": null,
            "flex_flow": null,
            "width": null,
            "min_width": null,
            "border": null,
            "align_items": null,
            "bottom": null,
            "_model_module": "@jupyter-widgets/base",
            "top": null,
            "grid_column": null,
            "overflow_y": null,
            "overflow_x": null,
            "grid_auto_flow": null,
            "grid_area": null,
            "grid_template_columns": null,
            "flex": null,
            "_model_name": "LayoutModel",
            "justify_items": null,
            "grid_row": null,
            "max_height": null,
            "align_content": null,
            "visibility": null,
            "align_self": null,
            "height": null,
            "min_height": null,
            "padding": null,
            "grid_auto_rows": null,
            "grid_gap": null,
            "max_width": null,
            "order": null,
            "_view_module_version": "1.2.0",
            "grid_template_areas": null,
            "object_position": null,
            "object_fit": null,
            "grid_auto_columns": null,
            "margin": null,
            "display": null,
            "left": null
          }
        },
        "5322be753f1f49d691c3f4cb4ebd01ac": {
          "model_module": "@jupyter-widgets/controls",
          "model_name": "DescriptionStyleModel",
          "state": {
            "_view_name": "StyleView",
            "_model_name": "DescriptionStyleModel",
            "description_width": "",
            "_view_module": "@jupyter-widgets/base",
            "_model_module_version": "1.5.0",
            "_view_count": null,
            "_view_module_version": "1.2.0",
            "_model_module": "@jupyter-widgets/controls"
          }
        },
        "074cdc7773214d27be1ccf4368e855ec": {
          "model_module": "@jupyter-widgets/base",
          "model_name": "LayoutModel",
          "state": {
            "_view_name": "LayoutView",
            "grid_template_rows": null,
            "right": null,
            "justify_content": null,
            "_view_module": "@jupyter-widgets/base",
            "overflow": null,
            "_model_module_version": "1.2.0",
            "_view_count": null,
            "flex_flow": null,
            "width": null,
            "min_width": null,
            "border": null,
            "align_items": null,
            "bottom": null,
            "_model_module": "@jupyter-widgets/base",
            "top": null,
            "grid_column": null,
            "overflow_y": null,
            "overflow_x": null,
            "grid_auto_flow": null,
            "grid_area": null,
            "grid_template_columns": null,
            "flex": null,
            "_model_name": "LayoutModel",
            "justify_items": null,
            "grid_row": null,
            "max_height": null,
            "align_content": null,
            "visibility": null,
            "align_self": null,
            "height": null,
            "min_height": null,
            "padding": null,
            "grid_auto_rows": null,
            "grid_gap": null,
            "max_width": null,
            "order": null,
            "_view_module_version": "1.2.0",
            "grid_template_areas": null,
            "object_position": null,
            "object_fit": null,
            "grid_auto_columns": null,
            "margin": null,
            "display": null,
            "left": null
          }
        }
      }
    }
  },
  "cells": [
    {
      "cell_type": "markdown",
      "metadata": {
        "id": "view-in-github",
        "colab_type": "text"
      },
      "source": [
        "<a href=\"https://colab.research.google.com/github/DongHyunLee1224/lab/blob/main/FriendsEmotionAnalysis/Friends_emotion_analysis.ipynb\" target=\"_parent\"><img src=\"https://colab.research.google.com/assets/colab-badge.svg\" alt=\"Open In Colab\"/></a>"
      ]
    },
    {
      "cell_type": "markdown",
      "metadata": {
        "id": "CfPYyPLERU-H"
      },
      "source": [
        "# **Preparation**"
      ]
    },
    {
      "cell_type": "code",
      "metadata": {
        "colab": {
          "base_uri": "https://localhost:8080/"
        },
        "id": "PwHunLB1dgHx",
        "outputId": "656fa1a4-f466-4a56-e4ee-68244975f97f"
      },
      "source": [
        "from google.colab import drive \r\n",
        "drive.mount('/content/gdrive') "
      ],
      "execution_count": 27,
      "outputs": [
        {
          "output_type": "stream",
          "text": [
            "Drive already mounted at /content/gdrive; to attempt to forcibly remount, call drive.mount(\"/content/gdrive\", force_remount=True).\n"
          ],
          "name": "stdout"
        }
      ]
    },
    {
      "cell_type": "code",
      "metadata": {
        "id": "WoaC1627dg5E"
      },
      "source": [
        "DATA_PATH = 'gdrive/MyDrive/EmotionAnalysis/Data/'\r\n",
        "import sys\r\n",
        "sys.path.append(DATA_PATH)"
      ],
      "execution_count": 28,
      "outputs": []
    },
    {
      "cell_type": "markdown",
      "metadata": {
        "id": "idM2mzIOxygV"
      },
      "source": [
        "# **Tutorials**"
      ]
    },
    {
      "cell_type": "markdown",
      "metadata": {
        "id": "5NWok7mf5xZk"
      },
      "source": [
        "##### **Settings**"
      ]
    },
    {
      "cell_type": "code",
      "metadata": {
        "id": "vZewOX-D9BLJ"
      },
      "source": [
        "!pip install transformers --quiet # package installer for python"
      ],
      "execution_count": 29,
      "outputs": []
    },
    {
      "cell_type": "code",
      "metadata": {
        "id": "6idZebToz_Wa"
      },
      "source": [
        "import torch\n",
        "import pandas as pd\n",
        "from transformers import BertModel, BertTokenizer"
      ],
      "execution_count": 30,
      "outputs": []
    },
    {
      "cell_type": "code",
      "metadata": {
        "id": "VKYIuzDw6mCq"
      },
      "source": [
        "pretrained_weights = 'bert-large-uncased'\n",
        "tokenizer = BertTokenizer.from_pretrained(pretrained_weights)\n",
        "model = BertModel.from_pretrained(pretrained_weights)"
      ],
      "execution_count": 31,
      "outputs": []
    },
    {
      "cell_type": "markdown",
      "metadata": {
        "id": "yPKnl3-7yCnJ"
      },
      "source": [
        "# **Emotion Recognition**"
      ]
    },
    {
      "cell_type": "markdown",
      "metadata": {
        "id": "Sk8Fa9xrzndp"
      },
      "source": [
        "##### **Dataset**"
      ]
    },
    {
      "cell_type": "code",
      "metadata": {
        "id": "8xzpFG2Azpx6"
      },
      "source": [
        "import json\n",
        "\n",
        "data = {'train': {'speaker': [], 'utterance': [], 'emotion': []},\n",
        "        'dev': {'speaker': [], 'utterance': [], 'emotion': []},\n",
        "        'test': {'speaker': [], 'utterance': [], 'emotion': []}}\n",
        "\n",
        "for dtype in ['train', 'dev', 'test']:\n",
        "  for dialog in json.loads(open(DATA_PATH + 'friends_' + dtype + '.json').read()):\n",
        "    for line in dialog:\n",
        "      data[dtype]['speaker'].append(line['speaker'])\n",
        "      data[dtype]['utterance'].append(line['utterance'])\n",
        "      data[dtype]['emotion'].append(line['emotion'])"
      ],
      "execution_count": 32,
      "outputs": []
    },
    {
      "cell_type": "code",
      "metadata": {
        "colab": {
          "base_uri": "https://localhost:8080/"
        },
        "id": "H1MOfaZOJLG4",
        "outputId": "3edf3aa8-be78-4596-ca34-797a8f76906b"
      },
      "source": [
        "verification_data = pd.read_csv(DATA_PATH + \"en_data.csv\", sep=',')\r\n",
        "print(verification_data.shape)\r\n",
        "print(verification_data[:5])"
      ],
      "execution_count": 33,
      "outputs": [
        {
          "output_type": "stream",
          "text": [
            "(1623, 5)\n",
            "   id  ...                                          utterance\n",
            "0   0  ...                      Alright, whadyou do with him?\n",
            "1   1  ...                                  Oh! You're awake!\n",
            "2   2  ...  Then you gotta come clean with Ma! This is not...\n",
            "3   3  ...                                  Yeah, but this is\n",
            "4   4  ...          I don't wanna hear it! Now go to my room!\n",
            "\n",
            "[5 rows x 5 columns]\n"
          ],
          "name": "stdout"
        }
      ]
    },
    {
      "cell_type": "code",
      "metadata": {
        "id": "VVhiZ12D6xXU"
      },
      "source": [
        "e2i_dict = dict((emo, i) for i, emo in enumerate(set(data['train']['emotion'])))\n",
        "i2e_dict = {i: e for e, i in e2i_dict.items()}"
      ],
      "execution_count": 34,
      "outputs": []
    },
    {
      "cell_type": "code",
      "metadata": {
        "colab": {
          "base_uri": "https://localhost:8080/"
        },
        "id": "7dlUfRkgK4Oq",
        "outputId": "1bb43738-d732-41b2-8e45-36f22c97a8b6"
      },
      "source": [
        "print(e2i_dict)"
      ],
      "execution_count": 35,
      "outputs": [
        {
          "output_type": "stream",
          "text": [
            "{'neutral': 0, 'surprise': 1, 'non-neutral': 2, 'joy': 3, 'disgust': 4, 'fear': 5, 'sadness': 6, 'anger': 7}\n"
          ],
          "name": "stdout"
        }
      ]
    },
    {
      "cell_type": "code",
      "metadata": {
        "colab": {
          "base_uri": "https://localhost:8080/"
        },
        "id": "5F7nbtrnK5-K",
        "outputId": "5e1c93cb-e0f1-406c-c15e-ffa524b8acab"
      },
      "source": [
        "print(i2e_dict)"
      ],
      "execution_count": 36,
      "outputs": [
        {
          "output_type": "stream",
          "text": [
            "{0: 'neutral', 1: 'surprise', 2: 'non-neutral', 3: 'joy', 4: 'disgust', 5: 'fear', 6: 'sadness', 7: 'anger'}\n"
          ],
          "name": "stdout"
        }
      ]
    },
    {
      "cell_type": "code",
      "metadata": {
        "colab": {
          "base_uri": "https://localhost:8080/"
        },
        "id": "JIOBM40YLOtq",
        "outputId": "e83d1d61-4bf2-4e27-ef28-4fad6107ad6f"
      },
      "source": [
        "import collections\r\n",
        "eMotion = collections.Counter()\r\n",
        "eMotion.update(data['train']['emotion']) \r\n",
        "print(eMotion)\r\n",
        "print(len(eMotion.keys()) ) # emotion : 8개 \r\n",
        "\r\n",
        "eMotion.update(data['test']['emotion']) \r\n",
        "eMotion.update(data['dev']['emotion']) \r\n",
        "print(eMotion) \r\n",
        "# dev : Counter({'neutral': 491, 'non-neutral': 214, 'surprise': 151, 'joy': 123, 'anger': 85, 'sadness': 62, 'fear': 29, 'disgust': 23})\r\n",
        "# train Counter({'neutral': 4752, 'non-neutral': 2017, 'joy': 1283, 'surprise': 1220, 'anger': 513, 'sadness': 351, 'disgust': 240, 'fear': 185})\r\n",
        "# test  Counter({'neutral': 1287, 'non-neutral': 541, 'joy': 304, 'surprise': 286, 'anger': 161, 'sadness': 85, 'disgust': 68, 'fear': 32})\r\n",
        "# sum : Counter({'neutral': 6530, 'non-neutral': 2772, 'joy': 1710, 'surprise': 1657, 'anger': 759, 'sadness': 498, 'disgust': 331, 'fear': 246})\r\n",
        "\r\n",
        "print(len(eMotion.keys()) ) # emtion : 8개 "
      ],
      "execution_count": 37,
      "outputs": [
        {
          "output_type": "stream",
          "text": [
            "Counter({'neutral': 4752, 'non-neutral': 2017, 'joy': 1283, 'surprise': 1220, 'anger': 513, 'sadness': 351, 'disgust': 240, 'fear': 185})\n",
            "8\n",
            "Counter({'neutral': 6530, 'non-neutral': 2772, 'joy': 1710, 'surprise': 1657, 'anger': 759, 'sadness': 498, 'disgust': 331, 'fear': 246})\n",
            "8\n"
          ],
          "name": "stdout"
        }
      ]
    },
    {
      "cell_type": "code",
      "metadata": {
        "colab": {
          "base_uri": "https://localhost:8080/"
        },
        "id": "COrz6vnAMRuM",
        "outputId": "e904ed2b-d3eb-4e27-f6ce-164fb8d19199"
      },
      "source": [
        "uTterance = collections.Counter()\r\n",
        "uTterance.update(data['train']['utterance']) \r\n",
        "print(len(uTterance.keys()) ) # utterance : 9,291개  \r\n",
        "\r\n",
        "uTterance.update(data['test']['utterance']) \r\n",
        "uTterance.update(data['dev']['utterance']) \r\n",
        "#print(uTterance) \r\n",
        "\r\n",
        "print(len(uTterance.keys()) ) # utterance : 12,645개  "
      ],
      "execution_count": 52,
      "outputs": [
        {
          "output_type": "stream",
          "text": [
            "9291\n",
            "12645\n"
          ],
          "name": "stdout"
        }
      ]
    },
    {
      "cell_type": "code",
      "metadata": {
        "colab": {
          "base_uri": "https://localhost:8080/"
        },
        "id": "4NF3xeHyMV5G",
        "outputId": "722a20e5-35f8-4f8b-a92d-66fb8341d93d"
      },
      "source": [
        "sPeaker = collections.Counter()\r\n",
        "sPeaker.update(data['train']['speaker']) \r\n",
        "print(len(sPeaker.keys()) )  # speaker : 264명\r\n",
        "\r\n",
        "sPeaker.update(data['test']['speaker']) \r\n",
        "sPeaker.update(data['dev']['speaker']) \r\n",
        "print(sPeaker) \r\n",
        "\r\n",
        "print(len(sPeaker.keys()) ) # speaker : 309명"
      ],
      "execution_count": 39,
      "outputs": [
        {
          "output_type": "stream",
          "text": [
            "264\n",
            "Counter({'Ross': 2166, 'Joey': 2163, 'Rachel': 2095, 'Phoebe': 1926, 'Monica': 1888, 'Chandler': 1861, 'Janice': 97, 'Carol': 63, 'Emily': 61, 'Tag': 60, 'All': 55, 'Mona': 48, 'Doug': 46, 'Frank': 43, 'Pete': 40, 'Joanna': 39, 'Mark': 38, 'Susan': 38, 'Richard': 33, 'Paul': 32, 'Woman': 30, 'David': 29, 'Gunther': 29, 'Mr. Treeger': 28, 'Danny': 28, 'Mr. Geller': 28, 'Phoebe Sr': 26, 'Mrs. Geller': 25, 'Julie': 25, 'Earl': 25, 'Elizabeth': 24, 'Director': 21, 'Eric': 21, 'Man': 21, 'Mike': 21, 'Dr. Green': 20, 'Gary': 19, 'Barry': 19, 'Guy': 19, 'Lydia': 18, 'Chip': 18, 'Kate': 16, 'Dina': 16, 'Nurse': 15, 'Jill': 15, 'Chloe': 15, 'Dana': 15, 'Charlie': 14, 'Alice': 14, 'Bonnie': 14, 'Leslie': 14, 'Janine': 14, 'Steve': 14, 'The Casting Director': 13, 'Mr. Tribbiani': 13, 'Dr. Long': 13, 'Joshua': 13, 'Kim': 13, 'Cassie': 13, 'Kristen': 13, 'Tour Guide': 13, 'Cliff': 12, 'Policeman': 12, 'Julio': 12, 'Katie': 12, 'Kathy': 12, 'Ben': 12, 'Russell': 12, 'Bob': 11, 'Duncan': 11, 'Mischa': 11, 'Issac': 11, 'Roger': 11, 'Stanley': 11, 'The Interviewer': 10, 'The Director': 10, 'Isabella': 10, 'Dr. Baldhara': 10, 'Robert': 10, 'Flight Attendant': 10, 'Receptionist': 10, 'Ursula': 10, 'The Cooking Teacher': 10, 'Estelle': 10, 'Krista': 9, 'Mr. Franklin': 9, 'Mr. Heckles': 9, 'Student': 9, 'Joey/Drake': 9, 'Cecilia': 9, 'Mrs. Bing': 9, 'Hypnosis Tape': 9, 'Tommy': 9, 'Megan': 8, 'Shelley': 8, 'Larry': 8, 'The Stripper': 8, 'Mr. Kaplan': 8, 'Jade': 7, 'Jim': 7, 'Kyle': 7, 'The Potential Roommate': 7, 'The Instructor': 7, 'The Smoking Woman': 7, 'Terry': 7, 'The Teacher': 7, 'Nancy': 6, 'Sarah': 6, \"Joey's Hand Twin\": 6, 'Fireman No. 3': 6, 'Young Ethan': 6, 'Mindy': 6, 'Mr. Burgin': 6, 'Stage Director': 6, 'Mrs. Green': 6, 'Evil Bitch': 6, 'Dr. Zane': 6, 'The Dry Cleaner': 5, 'Ticket Counter Attendant': 5, 'Dr. Rhodes': 5, 'Phoebe Sr.': 5, 'Carl': 5, 'Lorraine': 5, 'Richard\\x92s Date': 5, 'The Fireman': 5, 'Kristin': 5, 'Teacher': 5, 'The Security Guard': 5, 'Girl': 5, 'Rick': 5, 'Fake Monica': 5, 'The Museum Official': 5, 'Melissa': 5, 'Brenda': 5, 'Doctor Connelly': 5, 'Max': 5, 'Wayne': 4, 'Bobby': 4, 'Jester': 4, 'Singer': 4, 'The Vendor': 4, 'Dr. Miller': 4, 'Angela': 4, 'The Head Librarian': 4, 'Dr. Drake Remoray': 4, 'Stranger': 4, 'Mr. Waltham': 4, 'Paula': 4, 'Ronni': 4, 'Trudie Styler': 4, 'Woman On Train': 4, 'Allesandro': 4, 'Judge': 4, 'Molly': 4, 'Drew': 4, 'Whitney': 4, 'Kori': 4, 'Jen': 4, 'Lauren': 4, 'Customer': 3, 'Tony': 3, 'Sophie': 3, 'Hitchhiker': 3, 'Jane': 3, 'Joanne': 3, 'Tom': 3, 'Supervisor': 3, 'an': 3, 'Annabelle': 3, 'Mr. Zelner': 3, 'Liam': 3, \"Mona's Date\": 3, 'Hoshi': 3, 'The Lurker': 3, 'Ms. McKenna': 3, 'Hotel Clerk': 3, 'Dr. Franzblau': 3, 'Jeannine': 3, 'The Food Critic': 3, \"Maitre d'\": 3, 'Marjorie': 3, 'Fireman #1': 3, 'The Waiter': 3, 'Host': 3, 'Female Clerk': 3, 'The Fan': 3, 'Ginger': 3, 'Jessica Lockhart': 3, 'Waitress': 3, 'Alan': 3, 'The Hot Girl': 3, 'Ross and Rachel': 3, 'Sergei': 2, 'Caitlin': 2, 'Joey and Chandler': 2, 'Charlton Heston': 2, 'The Singing Man': 2, '3rd Customer': 2, 'Kiki': 2, 'Jake': 2, 'The Woman': 2, 'Bernice': 2, 'Voice': 2, 'Dr. Ledbetter': 2, 'Mrs. Burgin': 2, 'Jason': 2, 'PBS Volunteer': 2, 'Marc': 2, 'Sick Bastard': 2, 'Airline Employee': 2, 'Mr. Posner': 2, 'Leader': 2, 'Dr. Wesley': 2, 'Hope': 2, 'Hold Voice': 2, 'Rachel/actress': 2, 'Doctor': 2, 'Older Scientist': 2, 'Another Scientist': 2, 'Casey': 2, 'Jay Leno': 2, 'The Guys': 2, 'Friend No. 2': 2, 'Fireman No. 1': 2, 'Fireman No. 2': 2, 'Dr. Oberman': 2, 'Gerston': 2, 'Santos': 2, 'The Grip': 2, 'Frannie': 2, 'Erin': 2, 'Dr. Harad': 2, 'TV Announcer': 2, 'Paleontologist': 1, 'Professore Clerk': 1, 'Guru Saj': 1, 'Stevens': 1, 'Peter': 1, 'Dr. Johnson': 1, 'Commercial': 1, 'A Female Student': 1, 'Bitter woman': 1, '1st Customer': 1, '2nd Customer': 1, 'The Presenter': 1, 'Message': 1, 'The Assistant Director': 1, 'Emeril': 1, 'Lecturer': 1, 'Monica and Ross': 1, 'Dr. Leedbetter': 1, 'Robbie': 1, 'Stu': 1, 'Front Desk Clerk': 1, 'Gary Collins': 1, 'Phoebe and Rachel': 1, 'The Cigarette Guy': 1, 'Rachel and Phoebe': 1, 'Ross and Joey': 1, 'Both': 1, 'Drunken Gambler': 1, 'Raymond': 1, 'Monica and Phoebe': 1, 'A Student': 1, 'Stephanie': 1, 'Nurse #1': 1, 'Nurse #2': 1, 'Dr. Stryker Ramoray': 1, 'Helena': 1, 'Janitor': 1, 'Mrs. Lynch': 1, 'Paolo': 1, 'Joey and Ross': 1, 'Hombre Man': 1, 'Bandleader': 1, 'Fat Girl': 1, 'The Librarian': 1, 'Guy #1': 1, 'Vince': 1, 'Phoebe/Waitress': 1, 'Mrs. Waltham': 1, 'Boy in the Cape': 1, 'Mrs. Chatracus': 1, 'Burt': 1, 'Another Tour Guide': 1, 'Aunt Lillian': 1, 'The Acting Teacher': 1, 'Tim': 1, 'Mrs. Tedlock': 1, 'The Croupier': 1, 'The Conductor': 1, 'Waiter': 1, 'Friend No. 1': 1, 'Her Friends': 1, 'Mrs. Tribbiani': 1, 'Petrie': 1, 'A Waiter': 1, 'Mr. Bing': 1, 'Phoebe and Leslie': 1, 'Female Student': 1, 'Male Student': 1, 'Ross and Chandler': 1, 'Frank Sr.': 1, 'Guest #1': 1, 'Rachel and Bonnie': 1, 'Passerby': 1, 'Cookie': 1, 'Monica and Rachel': 1, 'Stage Manager': 1})\n",
            "309\n"
          ],
          "name": "stdout"
        }
      ]
    },
    {
      "cell_type": "markdown",
      "metadata": {
        "id": "nC1cs8JC3cYA"
      },
      "source": [
        "##### **Model**"
      ]
    },
    {
      "cell_type": "code",
      "metadata": {
        "id": "nVU9HqHc3Tsz"
      },
      "source": [
        "import torch.nn as nn\n",
        "from transformers import BertModel, BertTokenizer\n",
        "\n",
        "class Model(nn.Module):\n",
        "  def __init__(self):\n",
        "    super().__init__()\n",
        "    self.bert_tokenizer = BertTokenizer.from_pretrained(pretrained_weights)\n",
        "    self.bert_model = BertModel.from_pretrained(pretrained_weights)\n",
        "    self.linear = torch.nn.Linear(1024, len(e2i_dict))\n",
        "    self.pre_utterance = ''\n",
        "    self.b_pre_utterance = ''\n",
        "\n",
        "  def forward(self, utterance):\n",
        "    previous_tokens = self.bert_tokenizer.tokenize(self.pre_utterance)\n",
        "    before_previous_tokens = self.bert_tokenizer.tokenize(self.b_pre_utterance)\n",
        "    tokens = self.bert_tokenizer.tokenize(utterance)\n",
        "    tokens = ['[CLS]'] + tokens + ['[SEP]'] + previous_tokens + ['[SEP]'] + before_previous_tokens + ['[SEP]']# (len)\n",
        "    ids = [tokenizer.convert_tokens_to_ids(tokens)] # (bat=1, len)\n",
        "    input_tensor = torch.tensor(ids).cuda()\n",
        "\n",
        "    hidden_tensor = self.bert_model(input_tensor)[0] # (bat, len, hid)\n",
        "    hidden_tensor = hidden_tensor[:, 0, :] # (bat, hid)\n",
        "\n",
        "    self.b_pre_utterance = self.pre_utterance\n",
        "    self.pre_utterance = utterance\n",
        "\n",
        "    logit = self.linear(hidden_tensor)\n",
        "    return logit"
      ],
      "execution_count": 40,
      "outputs": []
    },
    {
      "cell_type": "markdown",
      "metadata": {
        "id": "rztPJu1DJI_G"
      },
      "source": [
        "##### **Evaluation Metrics**"
      ]
    },
    {
      "cell_type": "code",
      "metadata": {
        "id": "273RBAszJMGd"
      },
      "source": [
        "from sklearn.metrics import precision_score, recall_score, f1_score\n",
        "\n",
        "def evaluate(true_list, pred_list):\n",
        "  precision = precision_score(true_list, pred_list, average=None)\n",
        "  recall = recall_score(true_list, pred_list, average=None)\n",
        "  micro_f1 = f1_score(true_list, pred_list, average='micro')\n",
        "  print('precision:\\t', ['%.4f' % v for v in precision])\n",
        "  print('recall:\\t\\t', ['%.4f' % v for v in recall])\n",
        "  print('micro_f1: %.6f' % micro_f1)"
      ],
      "execution_count": 41,
      "outputs": []
    },
    {
      "cell_type": "markdown",
      "metadata": {
        "id": "Z6gxWKi11OHV"
      },
      "source": [
        "##### **Hyper-parameters**"
      ]
    },
    {
      "cell_type": "code",
      "metadata": {
        "id": "vUY7pdLAyEDq"
      },
      "source": [
        "pretrained_weights = 'bert-large-uncased'\n",
        "learning_rate = 1e-6        \n",
        "n_epoch = 3  "
      ],
      "execution_count": 42,
      "outputs": []
    },
    {
      "cell_type": "code",
      "metadata": {
        "colab": {
          "base_uri": "https://localhost:8080/"
        },
        "id": "GKYLTnJiOXdK",
        "outputId": "d1731348-7de1-4d45-d583-baafe3b06042"
      },
      "source": [
        "print(range(len(data['train']['speaker'])))\r\n",
        "print(range(len(data['test']['speaker'])))\r\n",
        "print(range(len(data['dev']['speaker'])))"
      ],
      "execution_count": 43,
      "outputs": [
        {
          "output_type": "stream",
          "text": [
            "range(0, 10561)\n",
            "range(0, 2764)\n",
            "range(0, 1178)\n"
          ],
          "name": "stdout"
        }
      ]
    },
    {
      "cell_type": "markdown",
      "metadata": {
        "id": "y9RcP6vr1Whw"
      },
      "source": [
        "##### **Training**"
      ]
    },
    {
      "cell_type": "code",
      "metadata": {
        "id": "gvetI0DNysM5",
        "colab": {
          "base_uri": "https://localhost:8080/",
          "height": 467,
          "referenced_widgets": [
            "737820a9e7f74eab9b0bf4d38c3d96e3",
            "436ee73bee564c89938923634325910c",
            "abda5eb9680f486aa36fa8b16e378551",
            "e14ec991d4ad459fafba1ec6500de1ad",
            "4ed1aa80f1804d5ba3e37daa65a3ffe0",
            "72f05be8ba1a43eaa5e035921c3e506e",
            "489b0ffe3c6a4caaa00dfc723dff76ac",
            "9e63d571f01e4f44a676c8223b40a235",
            "86e9edb0afc3478488ca40dbe90d63db",
            "c385b9986bd64140a4d7c1bad07c227e",
            "f1f53ab9313749168890d63bcbabe092",
            "5251144f96a84889b12e145bc1ac0ed6",
            "c3e370275f2c4980a7e336e6e7e7974d",
            "f3cb16e147a44b75bcf2d4ac57a104e7",
            "6319b31b2c484f7ea7ef047870da78bd",
            "ac732999f7a5446694c8bd10461e35ed",
            "7a5de44330de4e8dbc1c9a850197e43f",
            "7d1941fb419f4f41977ea6ca28c912f0",
            "c1292436992243d2b1a8ac9119b4c007",
            "4232c20acc244f4f972f72af385c2efd",
            "400c40fbcee34556b16842e4dadcfd8e",
            "16e15bd24fcd4bcb8b2f7a0ddd119985",
            "40860880b6e04bfd960e465318fa795b",
            "332200ff6eb54d5380d657b27f6ac7c4"
          ]
        },
        "outputId": "7420f4f3-2944-465c-cf06-ee015c5983ac"
      },
      "source": [
        "import os\n",
        "os.environ['CUDA_VISIBLE_DEVICES'] = '0'\n",
        "import torch\n",
        "from tqdm import tqdm_notebook\n",
        "\n",
        "model = Model()\n",
        "model.cuda()\n",
        "weights = [1/1220, 1/185, 1/1283, 1/240, 1/4752, 1/513, 1/2017, 1/351]\n",
        "class_weights = torch.FloatTensor(weights).cuda()\n",
        "criterion = torch.nn.CrossEntropyLoss(weight=class_weights) \n",
        "optimizer = torch.optim.Adam(model.parameters(), learning_rate)\n",
        "\n",
        "for i_epoch in range(n_epoch):\n",
        "  print('i_epoch:', i_epoch)\n",
        "  model.train()\n",
        "\n",
        "  for i_batch in tqdm_notebook(range(len(data['train']['utterance']))):\n",
        "    logit = model('[' + data['train']['speaker'][i_batch] + '] ' + data['train']['utterance'][i_batch])\n",
        "    target = torch.tensor([e2i_dict[data['train']['emotion'][i_batch]]]).cuda()\n",
        "    loss = criterion(logit, target)\n",
        "    loss.backward()\n",
        "    optimizer.step()\n",
        "    optimizer.zero_grad()\n",
        "  \n",
        "  \n",
        "  model.eval()\n",
        "  pred_list, true_list = [], []\n",
        "  for i_batch_d in range(len(data['dev']['utterance'])):\n",
        "    logit = model('[' + data['dev']['speaker'][i_batch_d] + '] ' + data['dev']['utterance'][i_batch_d])\n",
        "    _, max_idx = torch.max(logit, dim=-1)\n",
        "    pred_list += max_idx.tolist()\n",
        "    true_list += [e2i_dict[data['dev']['emotion'][i_batch_d]]]\n",
        "  evaluate(true_list, pred_list) # print results"
      ],
      "execution_count": 44,
      "outputs": [
        {
          "output_type": "stream",
          "text": [
            "i_epoch: 0\n"
          ],
          "name": "stdout"
        },
        {
          "output_type": "stream",
          "text": [
            "/usr/local/lib/python3.6/dist-packages/ipykernel_launcher.py:17: TqdmDeprecationWarning: This function will be removed in tqdm==5.0.0\n",
            "Please use `tqdm.notebook.tqdm` instead of `tqdm.tqdm_notebook`\n"
          ],
          "name": "stderr"
        },
        {
          "output_type": "display_data",
          "data": {
            "application/vnd.jupyter.widget-view+json": {
              "model_id": "737820a9e7f74eab9b0bf4d38c3d96e3",
              "version_minor": 0,
              "version_major": 2
            },
            "text/plain": [
              "HBox(children=(FloatProgress(value=0.0, max=10561.0), HTML(value='')))"
            ]
          },
          "metadata": {
            "tags": []
          }
        },
        {
          "output_type": "stream",
          "text": [
            "\n",
            "precision:\t ['0.6515', '0.5506', '0.3204', '0.5030', '0.0000', '0.0000', '0.7500', '0.3621']\n",
            "recall:\t\t ['0.8758', '0.6490', '0.1542', '0.6829', '0.0000', '0.0000', '0.1452', '0.2471']\n",
            "micro_f1: 0.573005\n",
            "i_epoch: 1\n"
          ],
          "name": "stdout"
        },
        {
          "output_type": "stream",
          "text": [
            "/usr/local/lib/python3.6/dist-packages/sklearn/metrics/_classification.py:1272: UndefinedMetricWarning: Precision is ill-defined and being set to 0.0 in labels with no predicted samples. Use `zero_division` parameter to control this behavior.\n",
            "  _warn_prf(average, modifier, msg_start, len(result))\n"
          ],
          "name": "stderr"
        },
        {
          "output_type": "display_data",
          "data": {
            "application/vnd.jupyter.widget-view+json": {
              "model_id": "86e9edb0afc3478488ca40dbe90d63db",
              "version_minor": 0,
              "version_major": 2
            },
            "text/plain": [
              "HBox(children=(FloatProgress(value=0.0, max=10561.0), HTML(value='')))"
            ]
          },
          "metadata": {
            "tags": []
          }
        },
        {
          "output_type": "stream",
          "text": [
            "\n",
            "precision:\t ['0.7107', '0.6074', '0.3175', '0.5471', '0.3333', '0.0000', '0.6053', '0.4375']\n",
            "recall:\t\t ['0.8656', '0.6556', '0.1869', '0.7561', '0.0435', '0.0000', '0.3710', '0.4118']\n",
            "micro_f1: 0.607810\n",
            "i_epoch: 2\n"
          ],
          "name": "stdout"
        },
        {
          "output_type": "display_data",
          "data": {
            "application/vnd.jupyter.widget-view+json": {
              "model_id": "7a5de44330de4e8dbc1c9a850197e43f",
              "version_minor": 0,
              "version_major": 2
            },
            "text/plain": [
              "HBox(children=(FloatProgress(value=0.0, max=10561.0), HTML(value='')))"
            ]
          },
          "metadata": {
            "tags": []
          }
        },
        {
          "output_type": "stream",
          "text": [
            "\n",
            "precision:\t ['0.7216', '0.6149', '0.2609', '0.6027', '0.4615', '0.0000', '0.5556', '0.4409']\n",
            "recall:\t\t ['0.8554', '0.6556', '0.1682', '0.7154', '0.2609', '0.0000', '0.4032', '0.4824']\n",
            "micro_f1: 0.606961\n"
          ],
          "name": "stdout"
        }
      ]
    },
    {
      "cell_type": "code",
      "metadata": {
        "colab": {
          "base_uri": "https://localhost:8080/",
          "height": 227,
          "referenced_widgets": [
            "5dfdcd7e8a6e481d85466f0efbc27f64",
            "3bfd34b0354c4fa1918f5f944bdf143e",
            "b1d50359fa3842aba39dac07a4dd6683",
            "999e613f54e44e57b1fd4b287eaaa941",
            "4c3ca878bc8b4a70bc34370b467bf160",
            "a2d27621a48b447f9bbd33dbd8f02a39",
            "c11431c78d5e46739ae8f15a10e73b03",
            "8189572a21184b21879f0fcad3a113d6"
          ]
        },
        "id": "zlo75CC7Pal5",
        "outputId": "66dbe22b-55f4-43da-c530-6c541a812d1a"
      },
      "source": [
        "model.eval()\r\n",
        "pred_list, true_list = [], []\r\n",
        "for i_batch_d in tqdm_notebook(range(len(data['test']['utterance']))):\r\n",
        "  logit = model('[' + data['test']['speaker'][i_batch_d] + '] ' + data['test']['utterance'][i_batch_d])\r\n",
        "  _, max_idx = torch.max(logit, dim=-1)\r\n",
        "  pred_list += max_idx.tolist()\r\n",
        "  true_list += [e2i_dict[data['test']['emotion'][i_batch_d]]]\r\n",
        "evaluate(true_list, pred_list) # print results"
      ],
      "execution_count": 48,
      "outputs": [
        {
          "output_type": "stream",
          "text": [
            "/usr/local/lib/python3.6/dist-packages/ipykernel_launcher.py:3: TqdmDeprecationWarning: This function will be removed in tqdm==5.0.0\n",
            "Please use `tqdm.notebook.tqdm` instead of `tqdm.tqdm_notebook`\n",
            "  This is separate from the ipykernel package so we can avoid doing imports until\n"
          ],
          "name": "stderr"
        },
        {
          "output_type": "display_data",
          "data": {
            "application/vnd.jupyter.widget-view+json": {
              "model_id": "5dfdcd7e8a6e481d85466f0efbc27f64",
              "version_minor": 0,
              "version_major": 2
            },
            "text/plain": [
              "HBox(children=(FloatProgress(value=0.0, max=2764.0), HTML(value='')))"
            ]
          },
          "metadata": {
            "tags": []
          }
        },
        {
          "output_type": "stream",
          "text": [
            "\n",
            "precision:\t ['0.7724', '0.5556', '0.4437', '0.5585', '0.3824', '0.0000', '0.4409', '0.4101']\n",
            "recall:\t\t ['0.8361', '0.6119', '0.2403', '0.7697', '0.1912', '0.0000', '0.4824', '0.5528']\n",
            "micro_f1: 0.636035\n"
          ],
          "name": "stdout"
        },
        {
          "output_type": "stream",
          "text": [
            "/usr/local/lib/python3.6/dist-packages/sklearn/metrics/_classification.py:1272: UndefinedMetricWarning: Precision is ill-defined and being set to 0.0 in labels with no predicted samples. Use `zero_division` parameter to control this behavior.\n",
            "  _warn_prf(average, modifier, msg_start, len(result))\n"
          ],
          "name": "stderr"
        }
      ]
    },
    {
      "cell_type": "code",
      "metadata": {
        "id": "OARjhlLTimc0",
        "colab": {
          "base_uri": "https://localhost:8080/",
          "height": 295,
          "referenced_widgets": [
            "4f7f891216074189b13a100fe8b055dc",
            "2c14c00ecbed4fe88b876dfd12109dfc",
            "03b85fc7f8ca4a23a2de73084fbf3987",
            "fac278b5f6dc4f3eba6b418f454b55db",
            "5f38de4937c440ae8f428fdeb3082342",
            "c6059eb8caf94f019ee97ba9cf75a052",
            "5322be753f1f49d691c3f4cb4ebd01ac",
            "074cdc7773214d27be1ccf4368e855ec"
          ]
        },
        "outputId": "eb209243-8019-402f-99e5-e6ca1dcb9cfa"
      },
      "source": [
        "verification_result = []\r\n",
        "model.eval()\r\n",
        "for i_batch in tqdm_notebook(range(len(verification_data['utterance']))):\r\n",
        "  id = verification_data['id'][i_batch]\r\n",
        "  logit = model(verification_data['speaker'][i_batch] + '] ' + verification_data['utterance'][i_batch])\r\n",
        "  _, max_idx = torch.max(logit, dim=-1)\r\n",
        "  max_idx = int(max_idx.cpu().numpy())\r\n",
        "  \r\n",
        "  verification_result.append([id , i2e_dict[max_idx]])\r\n",
        "\r\n",
        "verification_result[:10]"
      ],
      "execution_count": 45,
      "outputs": [
        {
          "output_type": "stream",
          "text": [
            "/usr/local/lib/python3.6/dist-packages/ipykernel_launcher.py:3: TqdmDeprecationWarning: This function will be removed in tqdm==5.0.0\n",
            "Please use `tqdm.notebook.tqdm` instead of `tqdm.tqdm_notebook`\n",
            "  This is separate from the ipykernel package so we can avoid doing imports until\n"
          ],
          "name": "stderr"
        },
        {
          "output_type": "display_data",
          "data": {
            "application/vnd.jupyter.widget-view+json": {
              "model_id": "4f7f891216074189b13a100fe8b055dc",
              "version_minor": 0,
              "version_major": 2
            },
            "text/plain": [
              "HBox(children=(FloatProgress(value=0.0, max=1623.0), HTML(value='')))"
            ]
          },
          "metadata": {
            "tags": []
          }
        },
        {
          "output_type": "stream",
          "text": [
            "\n"
          ],
          "name": "stdout"
        },
        {
          "output_type": "execute_result",
          "data": {
            "text/plain": [
              "[[0, 'neutral'],\n",
              " [1, 'surprise'],\n",
              " [2, 'anger'],\n",
              " [3, 'neutral'],\n",
              " [4, 'anger'],\n",
              " [5, 'non-neutral'],\n",
              " [6, 'neutral'],\n",
              " [7, 'neutral'],\n",
              " [8, 'surprise'],\n",
              " [9, 'neutral']]"
            ]
          },
          "metadata": {
            "tags": []
          },
          "execution_count": 45
        }
      ]
    },
    {
      "cell_type": "code",
      "metadata": {
        "id": "8pIVj_9AXzpn"
      },
      "source": [
        "rdf = pd.DataFrame(verification_result, columns =['Id', 'Expected'])\r\n",
        "rdf.to_csv(DATA_PATH + '2019516018_LEEDONGHYUN_ENG.csv', index=False)"
      ],
      "execution_count": 46,
      "outputs": []
    }
  ]
}